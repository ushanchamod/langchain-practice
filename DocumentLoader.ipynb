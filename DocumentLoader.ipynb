{
 "cells": [
  {
   "cell_type": "markdown",
   "metadata": {},
   "source": [
    "TEXT FILE LOAD"
   ]
  },
  {
   "cell_type": "code",
   "execution_count": 9,
   "metadata": {},
   "outputs": [
    {
     "data": {
      "text/plain": [
       "{'source': 'data/example_txt_file.txt'}"
      ]
     },
     "execution_count": 9,
     "metadata": {},
     "output_type": "execute_result"
    }
   ],
   "source": [
    "from langchain_community.document_loaders import TextLoader\n",
    "\n",
    "loader = TextLoader(\"data1/example_txt_file.txt\")\n",
    "\n",
    "text_data = loader.load()\n",
    "\n",
    "text_data[0].page_content"
   ]
  },
  {
   "cell_type": "markdown",
   "metadata": {},
   "source": [
    "LOAD TEXT FILE FROM DIR"
   ]
  },
  {
   "cell_type": "code",
   "execution_count": null,
   "metadata": {},
   "outputs": [],
   "source": [
    "# pip install unstructured\n",
    "\n",
    "from langchain_community.document_loaders import DirectoryLoader\n",
    "\n",
    "loader = DirectoryLoader(\"data1/txt_folder\", glob=\"**/*.txt\")\n",
    "\n",
    "text_data = loader.load()\n",
    "\n",
    "for doc in text_data:\n",
    "    print(doc.page_content)\n",
    "    print(doc.metadata)\n",
    "    print(\"-\"*100)"
   ]
  },
  {
   "cell_type": "markdown",
   "metadata": {},
   "source": [
    "LOAD PDF"
   ]
  },
  {
   "cell_type": "code",
   "execution_count": null,
   "metadata": {},
   "outputs": [
    {
     "data": {
      "text/plain": [
       "\"Sri Lanka's national cricket team achieved a historic milestone by winning the ICC Cricket World \\nCup in 1996.  \\nThe team is known for producing cricket legends like Muttiah Muralitharan, the highest wicket-taker \\nin Test cricket history.  \\nKumar Sangakkara and Mahela Jayawardene are celebrated for their prolific batting partnerships.  \\nSanath Jayasuriya revolutionized one-day cricket with his explosive batting style.  \\nThe Galle International Stadium, with its stunning backdrop of the Galle Fort, is one of the world's \\nmost picturesque cricket venues.  \\nSri Lanka won the ICC T20 World Cup in 2014, demonstrating their prowess in the shortest format of \\nthe game.  \\nLasith Malinga, famous for his unique bowling action and lethal yorkers, has been a key player in \\ntheir T20 success.  \\nCricket is deeply embedded in Sri Lankan culture, uniting people from all walks of life during major \\ntournaments.\""
      ]
     },
     "execution_count": 8,
     "metadata": {},
     "output_type": "execute_result"
    }
   ],
   "source": [
    "# pip install pypdf\n",
    "from langchain_community.document_loaders import PyPDFLoader\n",
    "\n",
    "loader = PyPDFLoader(\"data1/example_pdf_file.pdf\")\n",
    "\n",
    "pdf_data = loader.load()\n",
    "\n",
    "pdf_data[0].page_content"
   ]
  },
  {
   "cell_type": "markdown",
   "metadata": {},
   "source": [
    "LOAD PDF FROM A DIR"
   ]
  },
  {
   "cell_type": "code",
   "execution_count": 19,
   "metadata": {},
   "outputs": [
    {
     "name": "stdout",
     "output_type": "stream",
     "text": [
      "The AI revolution continues to transform industries and reshape the global economy. \n",
      "Significant advancements in artificial intelligence have led to breakthroughs in healthcare, with AI-\n",
      "driven diagnostics improving patient outcomes and reducing costs. \n",
      "Autonomous systems are becoming increasingly prevalent in logistics and transportation, \n",
      "enhancing efficiency and safety. \n",
      "\n",
      "{'producer': 'Microsoft® Word for Microsoft 365', 'creator': 'Microsoft® Word for Microsoft 365', 'creationdate': '2024-06-17T22:35:41+05:30', 'author': 'Dinesh Piyasamara', 'moddate': '2024-06-17T22:35:41+05:30', 'source': 'data\\\\pdf_folder\\\\ai_news.pdf', 'total_pages': 1, 'page': 0, 'page_label': '1'}\n",
      "----------------------------------------------------------------------------------------------------\n",
      "The T20 World Cup 2024 is in full swing, bringing excitement and drama to cricket fans worldwide. \n",
      "India's team, captained by Rohit Sharma, is preparing for a crucial match against Ireland, with \n",
      "standout player Jasprit Bumrah expected to play a pivotal role in their campaign. \n",
      "The tournament has already seen controversy, particularly concerning the pitch conditions at \n",
      "Nassau County International Cricket Stadium in New York, which came under fire after a low-\n",
      "scoring game between Sri Lanka and South Africa. \n",
      "\n",
      "{'producer': 'Microsoft® Word for Microsoft 365', 'creator': 'Microsoft® Word for Microsoft 365', 'creationdate': '2024-06-17T22:36:30+05:30', 'author': 'Dinesh Piyasamara', 'moddate': '2024-06-17T22:36:30+05:30', 'source': 'data\\\\pdf_folder\\\\cricket_news.pdf', 'total_pages': 1, 'page': 0, 'page_label': '1'}\n",
      "----------------------------------------------------------------------------------------------------\n",
      "As election season heats up, the latest developments reveal a highly competitive atmosphere \n",
      "across several key races. \n",
      "The presidential election has seen intense campaigning from all major candidates, with recent \n",
      "polls indicating a tight race. \n",
      "Incumbent President Jane Doe is seeking re-election on a platform of economic stability and \n",
      "healthcare reform, while her main rival, Senator John Smith, focuses on education and climate \n",
      "change initiatives. \n",
      "\n",
      "{'producer': 'Microsoft® Word for Microsoft 365', 'creator': 'Microsoft® Word for Microsoft 365', 'creationdate': '2024-06-17T22:37:07+05:30', 'author': 'Dinesh Piyasamara', 'moddate': '2024-06-17T22:37:07+05:30', 'source': 'data\\\\pdf_folder\\\\election_news.pdf', 'total_pages': 1, 'page': 0, 'page_label': '1'}\n",
      "----------------------------------------------------------------------------------------------------\n",
      "The world of football is buzzing with excitement as major tournaments and league matches \n",
      "continue to captivate fans globally. \n",
      "In the UEFA Champions League, the semi-final matchups have been set, with defending champions \n",
      "Real Madrid set to face Manchester City, while Bayern Munich will take on Paris Saint-Germain. \n",
      "Both ties promise thrilling encounters, featuring some of the best talents in world football \n",
      "\n",
      "{'producer': 'Microsoft® Word for Microsoft 365', 'creator': 'Microsoft® Word for Microsoft 365', 'creationdate': '2024-06-17T22:37:50+05:30', 'author': 'Dinesh Piyasamara', 'moddate': '2024-06-17T22:37:50+05:30', 'source': 'data\\\\pdf_folder\\\\football_news.pdf', 'total_pages': 1, 'page': 0, 'page_label': '1'}\n",
      "----------------------------------------------------------------------------------------------------\n"
     ]
    }
   ],
   "source": [
    "from langchain_community.document_loaders import PyPDFDirectoryLoader\n",
    "\n",
    "loader  = PyPDFDirectoryLoader(\"data1/pdf_folder\", \"**/*.pdf\")\n",
    "\n",
    "pdf_data = loader.load()\n",
    "for doc in pdf_data:\n",
    "    print(doc.page_content, \"\\n\")\n",
    "    print(doc.metadata)\n",
    "    print(\"-\"*100)"
   ]
  },
  {
   "cell_type": "markdown",
   "metadata": {},
   "source": [
    "LOAD CSV"
   ]
  },
  {
   "cell_type": "code",
   "execution_count": 25,
   "metadata": {},
   "outputs": [
    {
     "name": "stdout",
     "output_type": "stream",
     "text": [
      "ï»¿name: kamal\n",
      "city: colombo\n",
      "result: pass\n"
     ]
    }
   ],
   "source": [
    "from langchain_community.document_loaders import CSVLoader\n",
    "\n",
    "loader = CSVLoader(\"data1/example_csv_file.csv\")\n",
    "\n",
    "csv_text = loader.load()\n",
    "\n",
    "print(csv_text[0].page_content)"
   ]
  },
  {
   "cell_type": "markdown",
   "metadata": {},
   "source": [
    "LOAD HTML FILE"
   ]
  },
  {
   "cell_type": "code",
   "execution_count": 29,
   "metadata": {},
   "outputs": [
    {
     "data": {
      "text/plain": [
       "{'source': 'data/example_html_file.html', 'title': 'Sri Lanka Cricket'}"
      ]
     },
     "execution_count": 29,
     "metadata": {},
     "output_type": "execute_result"
    }
   ],
   "source": [
    "from langchain_community.document_loaders import BSHTMLLoader\n",
    "\n",
    "loader = BSHTMLLoader(\"data1/example_html_file.html\")\n",
    "\n",
    "html = loader.load()\n",
    "\n",
    "html[0].metadata"
   ]
  }
 ],
 "metadata": {
  "kernelspec": {
   "display_name": "env",
   "language": "python",
   "name": "python3"
  },
  "language_info": {
   "codemirror_mode": {
    "name": "ipython",
    "version": 3
   },
   "file_extension": ".py",
   "mimetype": "text/x-python",
   "name": "python",
   "nbconvert_exporter": "python",
   "pygments_lexer": "ipython3",
   "version": "3.13.5"
  }
 },
 "nbformat": 4,
 "nbformat_minor": 2
}
